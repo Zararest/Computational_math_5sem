{
 "cells": [
  {
   "cell_type": "markdown",
   "metadata": {},
   "source": [
    "# Лабораторная работа 2\n",
    "## Решение СЛАУ прямыми и итерационными методами\n",
    "\n",
    "Выполнил: Шумаков Иван Б01-009\n",
    "\n",
    "Используемые методы: прямой - метод LU разложения, если миноры отличны от 0, и Гаус с выбором главного элемента, если не отличны. Итерационный - метод верхней релаксации\n",
    "\n",
    "Матрица в пункте л)\n",
    "$$ \\begin{cases}\n",
    "    a_{11} x_1 + a_{12} x_2 + \\dots + a_{1n} x_n = f_1 \\\\\n",
    "    \\dots                                              \\\\\n",
    "    a_{n1} x_1 + a_{n2} x_2 + \\dots + a_{nn} x_n = f_n \\\\   \n",
    "   \\end{cases}  $$\n",
    "$$ n = 20, a_{ii} = 10, a_{ij} = 1 / (i + j), f_i = 1 / i $$\n",
    "\n",
    "Критерий останова для метода верхних релаксаций:\n",
    "$$ ||x^{k + 1} - x ^k|| < \\epsilon   $$\n",
    "$$ \\epsilon = 0.01 $$\n",
    "\n",
    "Невязка на каждом шаге:\n",
    "$$ r_k = || A x^k - f || $$"
   ]
  },
  {
   "cell_type": "code",
   "execution_count": null,
   "metadata": {},
   "outputs": [],
   "source": []
  }
 ],
 "metadata": {
  "kernelspec": {
   "display_name": "Python 3.8.10 64-bit",
   "language": "python",
   "name": "python3"
  },
  "language_info": {
   "name": "python",
   "version": "3.8.10"
  },
  "orig_nbformat": 4,
  "vscode": {
   "interpreter": {
    "hash": "e7370f93d1d0cde622a1f8e1c04877d8463912d04d973331ad4851f04de6915a"
   }
  }
 },
 "nbformat": 4,
 "nbformat_minor": 2
}
