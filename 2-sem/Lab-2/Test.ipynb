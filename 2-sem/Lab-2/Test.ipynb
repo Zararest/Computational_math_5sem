{
 "cells": [
  {
   "cell_type": "code",
   "execution_count": 3,
   "metadata": {},
   "outputs": [
    {
     "ename": "KeyboardInterrupt",
     "evalue": "",
     "output_type": "error",
     "traceback": [
      "\u001b[0;31m---------------------------------------------------------------------------\u001b[0m",
      "\u001b[0;31mKeyboardInterrupt\u001b[0m                         Traceback (most recent call last)",
      "\u001b[1;32m/home/uwu/Desktop/Compute/2-sem/Lab-2/Test.ipynb Cell 1\u001b[0m in \u001b[0;36m<cell line: 55>\u001b[0;34m()\u001b[0m\n\u001b[1;32m     <a href='vscode-notebook-cell:/home/uwu/Desktop/Compute/2-sem/Lab-2/Test.ipynb#W0sZmlsZQ%3D%3D?line=51'>52</a>\u001b[0m   \u001b[39mfor\u001b[39;00m j \u001b[39min\u001b[39;00m \u001b[39mrange\u001b[39m(\u001b[39m0\u001b[39m, \u001b[39m200\u001b[39m, \u001b[39m50\u001b[39m):\n\u001b[1;32m     <a href='vscode-notebook-cell:/home/uwu/Desktop/Compute/2-sem/Lab-2/Test.ipynb#W0sZmlsZQ%3D%3D?line=52'>53</a>\u001b[0m     \u001b[39mpass\u001b[39;00m\u001b[39m#Rado((i - 2)/4, j - 100, 0.0001, 1000)\u001b[39;00m\n\u001b[0;32m---> <a href='vscode-notebook-cell:/home/uwu/Desktop/Compute/2-sem/Lab-2/Test.ipynb#W0sZmlsZQ%3D%3D?line=54'>55</a>\u001b[0m Rado(\u001b[39m-\u001b[39;49m\u001b[39m1.5\u001b[39;49m, \u001b[39m0\u001b[39;49m, \u001b[39m0.0001\u001b[39;49m, \u001b[39m1000\u001b[39;49m)\n\u001b[1;32m     <a href='vscode-notebook-cell:/home/uwu/Desktop/Compute/2-sem/Lab-2/Test.ipynb#W0sZmlsZQ%3D%3D?line=55'>56</a>\u001b[0m plt\u001b[39m.\u001b[39mtitle(\u001b[39m\"\u001b[39m\u001b[39ma = 10^3\u001b[39m\u001b[39m\"\u001b[39m)\n\u001b[1;32m     <a href='vscode-notebook-cell:/home/uwu/Desktop/Compute/2-sem/Lab-2/Test.ipynb#W0sZmlsZQ%3D%3D?line=56'>57</a>\u001b[0m plt\u001b[39m.\u001b[39mshow()\n",
      "\u001b[1;32m/home/uwu/Desktop/Compute/2-sem/Lab-2/Test.ipynb Cell 1\u001b[0m in \u001b[0;36mRado\u001b[0;34m(x0, y0, h, param)\u001b[0m\n\u001b[1;32m     <a href='vscode-notebook-cell:/home/uwu/Desktop/Compute/2-sem/Lab-2/Test.ipynb#W0sZmlsZQ%3D%3D?line=38'>39</a>\u001b[0m y\u001b[39m.\u001b[39mappend(y0)\n\u001b[1;32m     <a href='vscode-notebook-cell:/home/uwu/Desktop/Compute/2-sem/Lab-2/Test.ipynb#W0sZmlsZQ%3D%3D?line=40'>41</a>\u001b[0m \u001b[39mfor\u001b[39;00m i \u001b[39min\u001b[39;00m \u001b[39mrange\u001b[39m (\u001b[39m1000000\u001b[39m):\n\u001b[0;32m---> <a href='vscode-notebook-cell:/home/uwu/Desktop/Compute/2-sem/Lab-2/Test.ipynb#W0sZmlsZQ%3D%3D?line=41'>42</a>\u001b[0m   current \u001b[39m=\u001b[39m Rado_step(param, current, h)\n\u001b[1;32m     <a href='vscode-notebook-cell:/home/uwu/Desktop/Compute/2-sem/Lab-2/Test.ipynb#W0sZmlsZQ%3D%3D?line=42'>43</a>\u001b[0m   x\u001b[39m.\u001b[39mappend(current[\u001b[39m0\u001b[39m])\n\u001b[1;32m     <a href='vscode-notebook-cell:/home/uwu/Desktop/Compute/2-sem/Lab-2/Test.ipynb#W0sZmlsZQ%3D%3D?line=43'>44</a>\u001b[0m   y\u001b[39m.\u001b[39mappend(current[\u001b[39m1\u001b[39m])\n",
      "\u001b[1;32m/home/uwu/Desktop/Compute/2-sem/Lab-2/Test.ipynb Cell 1\u001b[0m in \u001b[0;36mRado_step\u001b[0;34m(param, y, h)\u001b[0m\n\u001b[1;32m     <a href='vscode-notebook-cell:/home/uwu/Desktop/Compute/2-sem/Lab-2/Test.ipynb#W0sZmlsZQ%3D%3D?line=26'>27</a>\u001b[0m   k1 \u001b[39m=\u001b[39m f (y \u001b[39m+\u001b[39m h \u001b[39m*\u001b[39m (k1\u001b[39m/\u001b[39m\u001b[39m4\u001b[39m \u001b[39m-\u001b[39m k2\u001b[39m/\u001b[39m\u001b[39m4\u001b[39m), param)\n\u001b[1;32m     <a href='vscode-notebook-cell:/home/uwu/Desktop/Compute/2-sem/Lab-2/Test.ipynb#W0sZmlsZQ%3D%3D?line=27'>28</a>\u001b[0m   k2 \u001b[39m=\u001b[39m f (y \u001b[39m+\u001b[39m h \u001b[39m*\u001b[39m (k1\u001b[39m/\u001b[39m\u001b[39m4\u001b[39m \u001b[39m+\u001b[39m k2 \u001b[39m*\u001b[39m \u001b[39m5\u001b[39m\u001b[39m/\u001b[39m\u001b[39m12\u001b[39m), param)\n\u001b[0;32m---> <a href='vscode-notebook-cell:/home/uwu/Desktop/Compute/2-sem/Lab-2/Test.ipynb#W0sZmlsZQ%3D%3D?line=29'>30</a>\u001b[0m \u001b[39mreturn\u001b[39;00m y \u001b[39m+\u001b[39m (k1\u001b[39m/\u001b[39m\u001b[39m4\u001b[39m \u001b[39m+\u001b[39m \u001b[39m3\u001b[39;49m\u001b[39m/\u001b[39;49m\u001b[39m4\u001b[39;49m \u001b[39m*\u001b[39;49m k2) \u001b[39m*\u001b[39m h\n",
      "\u001b[0;31mKeyboardInterrupt\u001b[0m: "
     ]
    }
   ],
   "source": [
    "from numpy.lib.function_base import kaiser\n",
    "import numpy as np\n",
    "import scipy as sp\n",
    "import matplotlib.pyplot as plt\n",
    "import math\n",
    "\n",
    "# system representation\n",
    "def f(vec, param):\n",
    "  res = np.zeros(2);\n",
    "  res[0] = vec[1]                                              # y1' = y2\n",
    "  res[1] = - param * (vec[1] * ((vec[0]*vec[0] - 1) + vec[0])) # y2' =  -a(y2(y1^2-1)+y1))\n",
    "  return res\n",
    "\n",
    "def Rado_step(param, y, h):\n",
    "  res = np.zeros(2)\n",
    "\n",
    "  k1 = np.zeros(2)\n",
    "\n",
    "  k1 = np.array((0, 0))\n",
    "  k2 = np.array((0, 0))\n",
    "\n",
    "  next = 1\n",
    "  \n",
    "  #just iterations \n",
    "  for i in range(10):\n",
    "    next = 0\n",
    "    k1 = f (y + h * (k1/4 - k2/4), param)\n",
    "    k2 = f (y + h * (k1/4 + k2 * 5/12), param)\n",
    "\n",
    "  return y + (k1/4 + 3/4 * k2) * h\n",
    "\n",
    "def Rado(x0, y0, h ,param):\n",
    "  current = [x0,y0]\n",
    "\n",
    "  x = []\n",
    "  y = []\n",
    "\n",
    "  x.append(x0)\n",
    "  y.append(y0)\n",
    "\n",
    "  for i in range (1000000):\n",
    "    current = Rado_step(param, current, h)\n",
    "    x.append(current[0])\n",
    "    y.append(current[1])\n",
    "    #print(current)\n",
    "\n",
    "  plt.plot(x,y,\".\")\n",
    "  return\n",
    "\n",
    "\n",
    "for i in range(-2, 6):\n",
    "  for j in range(0, 200, 50):\n",
    "    pass#Rado((i - 2)/4, j - 100, 0.0001, 1000)\n",
    "\n",
    "Rado(-1.5, 0, 0.0001, 1000)\n",
    "plt.title(\"a = 10^3\")\n",
    "plt.show()"
   ]
  }
 ],
 "metadata": {
  "kernelspec": {
   "display_name": "Python 3",
   "language": "python",
   "name": "python3"
  },
  "language_info": {
   "codemirror_mode": {
    "name": "ipython",
    "version": 3
   },
   "file_extension": ".py",
   "mimetype": "text/x-python",
   "name": "python",
   "nbconvert_exporter": "python",
   "pygments_lexer": "ipython3",
   "version": "3.8.10"
  },
  "orig_nbformat": 4,
  "vscode": {
   "interpreter": {
    "hash": "916dbcbb3f70747c44a77c7bcd40155683ae19c65e1c03b4aa3499c5328201f1"
   }
  }
 },
 "nbformat": 4,
 "nbformat_minor": 2
}
