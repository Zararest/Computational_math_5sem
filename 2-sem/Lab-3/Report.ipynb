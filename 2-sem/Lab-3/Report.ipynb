{
 "cells": [
  {
   "attachments": {},
   "cell_type": "markdown",
   "metadata": {},
   "source": [
    "# Лабораторная работа 3 (XI 9.3)\n",
    "## Решение системы ДУ методом пристрелки\n",
    "\n",
    "Выполнил: Шумаков Иван Игоревич\n",
    "\n",
    "### Условие\n",
    "\n",
    "Система:\n",
    "\n",
    "$$\n",
    "\\begin{cases}\n",
    "  y'' - x \\sqrt{y} = 0 \\\\\n",
    "  y(0) = 0 \\quad \\int_{0}^{1} y(x) dx = 1   \\\\\n",
    "\\end{cases}\n",
    "$$\n",
    "\n",
    "### Решение\n",
    "\n",
    "Построение зависимости $y(\\alpha)$\n",
    "$$\n",
    "\\begin{cases}\n",
    "  y' = u          \\\\\n",
    "  u' = x \\sqrt{y} \\\\\n",
    "  y(0) = 0        \\\\\n",
    "  u(0) = \\alpha   \\\\\n",
    "\\end{cases}\n",
    "$$\n",
    "\n",
    "Для нахожждения решения начальной задачи надо решить вспомогательную:\n",
    "$$\n",
    "  \\int_{0}^{1} y(x, \\alpha) dx - 1 = F(\\alpha) \\\\\n",
    "  F(\\alpha) = 0\n",
    "$$\n"
   ]
  }
 ],
 "metadata": {
  "kernelspec": {
   "display_name": "Python 3",
   "language": "python",
   "name": "python3"
  },
  "language_info": {
   "name": "python",
   "version": "3.8.10"
  },
  "orig_nbformat": 4,
  "vscode": {
   "interpreter": {
    "hash": "916dbcbb3f70747c44a77c7bcd40155683ae19c65e1c03b4aa3499c5328201f1"
   }
  }
 },
 "nbformat": 4,
 "nbformat_minor": 2
}
