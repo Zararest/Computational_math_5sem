{
 "cells": [
  {
   "attachments": {},
   "cell_type": "markdown",
   "metadata": {},
   "source": [
    "# Лабораторная работа 4 (вариант 11)\n",
    "\n",
    "## Решение краевой задачи методом пррогонки \n",
    "\n",
    "Выполнил: Шумаков Иван\n",
    "\n",
    "### Постановка задачи\n",
    "\n",
    "Необходимо решить уравнение теплопроводности:\n",
    "\n",
    "$$\n",
    "\\frac{d}{dx} [k(x) \\frac{du}{dx}] -q(x) u = -f(x)  \\\\\n",
    "q(x) = x^2 \\\\\n",
    "f(x) = cos (x)\n",
    "$$\n",
    "\n",
    "при этом функция k(x) испытывает разрыв в точке $x_0 = 0.125$:\n",
    "\n",
    "$$\n",
    "x < x_0: k(x) = x + 1 \\\\\n",
    "x > x_0: k(x) = x^2\n",
    "$$\n",
    "\n",
    "условия на решение в точке разрыва:\n",
    "\n",
    "$$\n",
    "\\begin{cases}\n",
    "  u(x_0 - 0) = u(x_0 + 0) \\\\\n",
    "  k(x_0 - 0) * \\frac{du}{dx}(x_0 - 0) = k(x_0 + 0) \\frac{du}{dx}(x_0 + 0)\n",
    "\\end{cases}\n",
    "$$"
   ]
  }
 ],
 "metadata": {
  "kernelspec": {
   "display_name": "Python 3",
   "language": "python",
   "name": "python3"
  },
  "language_info": {
   "name": "python",
   "version": "3.8.10"
  },
  "orig_nbformat": 4,
  "vscode": {
   "interpreter": {
    "hash": "916dbcbb3f70747c44a77c7bcd40155683ae19c65e1c03b4aa3499c5328201f1"
   }
  }
 },
 "nbformat": 4,
 "nbformat_minor": 2
}
